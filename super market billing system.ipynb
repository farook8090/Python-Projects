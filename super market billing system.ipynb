{
 "cells": [
  {
   "cell_type": "markdown",
   "id": "2e615000-c0ae-4519-849d-891edac3ce02",
   "metadata": {},
   "source": [
    "# Problem statements"
   ]
  },
  {
   "cell_type": "markdown",
   "id": "73792a03-400c-4ee4-b136-652f4dce6d3c",
   "metadata": {},
   "source": [
    "## Key Requirements:\n",
    "\n",
    "### 1. The system must allow for multiple items to be processed in a single transaction.\n",
    "### 2. Conditional statements should be used to apply discounts based on criteria (e.g., total amount, item type, or promotions).\n",
    "### 3. The program should calculate and display the subtotal, any discounts applied, and the final total amount due.\n",
    "### 4. The itemized bill should display the name, quantity, price of each item, and the final total after discounts.\n",
    "### 5. Loops should be utilized to handle continuous input of items until the billing process is complete"
   ]
  },
  {
   "cell_type": "markdown",
   "id": "8a6e7816-3e99-4758-8e3c-1146300f8c3e",
   "metadata": {},
   "source": [
    "# Solutions"
   ]
  },
  {
   "cell_type": "code",
   "execution_count": 29,
   "id": "1e27e597-7e2e-4111-b82a-8636a142c03c",
   "metadata": {},
   "outputs": [],
   "source": [
    "import pandas as pd"
   ]
  },
  {
   "cell_type": "code",
   "execution_count": null,
   "id": "95032152-ab6b-4f92-83aa-bcc6877d703b",
   "metadata": {},
   "outputs": [
    {
     "name": "stdout",
     "output_type": "stream",
     "text": [
      "Self Ordering Counter\n"
     ]
    },
    {
     "name": "stdin",
     "output_type": "stream",
     "text": [
      "Enter your name : faro\n",
      "Enter your mobile number without country code : 55\n",
      "Gender male\n"
     ]
    },
    {
     "name": "stdout",
     "output_type": "stream",
     "text": [
      "Hello Mr. faro . \n",
      " What would you like to have for, today ?\n",
      "***** Menu items *****\n",
      "------ Restaurant Menu ------\n",
      "1 Margherita Pizza          $8.99\n",
      "2 Spaghetti Carbonara       $12.50\n",
      "3 Caesar Salad              $7.25\n",
      "4 Grilled Salmon            $15.95\n",
      "5 Tiramisu                  $5.50\n"
     ]
    },
    {
     "name": "stdin",
     "output_type": "stream",
     "text": [
      "Enter serial number of product , you want to order: 1\n",
      "Enter quantity to order : 10\n"
     ]
    },
    {
     "name": "stdout",
     "output_type": "stream",
     "text": [
      "Ordered Item Margherita Pizza , quantity 10 at price $8.99.\n"
     ]
    },
    {
     "name": "stdin",
     "output_type": "stream",
     "text": [
      "Would you like to order more ? yes\n",
      "Enter serial number of product , you want to order: 2\n",
      "Enter quantity to order : 10\n"
     ]
    },
    {
     "name": "stdout",
     "output_type": "stream",
     "text": [
      "Ordered Item Spaghetti Carbonara , quantity 10 at price $12.5.\n"
     ]
    },
    {
     "name": "stdin",
     "output_type": "stream",
     "text": [
      "Would you like to order more ? yes\n"
     ]
    }
   ],
   "source": [
    "# The system must allow for multiple items to be processed in a single transaction.\n",
    "sr_no=1;\n",
    "repeat = \"yes\"\n",
    "print(\"Self Ordering Counter\")\n",
    "\n",
    "order_items = []\n",
    "\n",
    "while (repeat==\"yes\"):\n",
    "    total_amount=0;\n",
    "    orderedQty=price=name=0\n",
    "    customer_name = str(input(\"Enter your name :\"))\n",
    "    phone_number = int(input(\"Enter your mobile number without country code :\"))\n",
    "    gender = str(input(\"Gender\"))\n",
    "    if (gender == \"male\" or gender == \"Male\"):\n",
    "        print(f\"Hello Mr. {customer_name} . \\n What would you like to have for, today ?\")\n",
    "    else:\n",
    "        print(f\"Hello Ms/Mrs. {customer_name} . \\n What would you like to have for, today ?\")\n",
    "    \n",
    "    print(\"*\"*5,\"Menu items\",\"*\"*5)\n",
    "    menu = [\n",
    "        {\"sr_no\": 1, \"name\": \"Whole Milk (1 Gallon)\", \"price\": 3.49},\n",
    "        {\"sr_no\": 2, \"name\": \"White Bread (Loaf)\", \"price\": 2.49},\n",
    "        {\"sr_no\": 3, \"name\": \"Brown Eggs (Dozen)\", \"price\": 3.29},\n",
    "        {\"sr_no\": 4, \"name\": \"Chicken Breast (per lb)\", \"price\": 5.29},\n",
    "        {\"sr_no\": 5, \"name\": \"Fuji Apples (per lb)\", \"price\": 1.49}\n",
    "    ]\n",
    "    \n",
    "    print(\"------ Restaurant Menu ------\")\n",
    "    for item in menu:\n",
    "        print(f\"{item['sr_no']} {item['name']:25} ${item['price']:.2f}\")\n",
    "        sr_no+=1\n",
    "    \n",
    "    srNoInput = int(input(\"Enter serial number of product , you want to order:\"))\n",
    "    discount=0\n",
    "    if(srNoInput>5):\n",
    "        print(\"Please enter serial number form 1 to 5.\")\n",
    "        srNoInput = int(input(\"Enter serial number of product , you want to order:\"))\n",
    "        if(srNoInput == 2):\n",
    "            discount = 0.05\n",
    "    else:\n",
    "        if(srNoInput == 2):\n",
    "            discount = 0.05\n",
    "        orderedQty = int(input(\"Enter quantity to order :\"))\n",
    "        arrayNum = srNoInput-1\n",
    "        price = menu[arrayNum]['price']\n",
    "        name = menu[arrayNum]['name']\n",
    "\n",
    "        print(f\"Ordered Item {name} , quantity {orderedQty} at price ${price} with discount of {discount*100} %.\")\n",
    "        total_amount = float(price)*orderedQty\n",
    "        print(f\"Sub Total : ${total_amount}\")\n",
    "        print(f\"Discount {discount*100}%: ${float(total_amount*discount)}\")\n",
    "        total_amount = total_amount-round(float(total_amount*discount),2)\n",
    "        new_total_amount=total_amount\n",
    "        \n",
    "        # order_items[menu[arrayNum]['sr_no']] = [orderedQty][discount*100]\n",
    "        \n",
    "        order_items.append({\n",
    "            \"item_sr_no\":menu[arrayNum]['sr_no']\n",
    "            ,\"item_name\":name\n",
    "            ,\"sales_price\":price\n",
    "            ,\"ordered_qty\":orderedQty\n",
    "            ,\"discount %\":discount*100\n",
    "            ,\"sub_total\":f\"${new_total_amount:.2f}\"\n",
    "        })\n",
    "        \n",
    "        repeatInput = str(input(\"Would you like to order more. ?\"))\n",
    "        while repeatInput==\"yes\":\n",
    "            if repeatInput==\"yes\":\n",
    "                orderedQty=price=name=0\n",
    "                srNoInput = int(input(\"Enter serial number of product , you want to order:\"))\n",
    "                if(srNoInput>5):\n",
    "                    print(\"Please enter serial number form 1 to 5.\")\n",
    "                    srNoInput = int(input(\"Enter serial number of product , you want to order:\"))\n",
    "                    if(srNoInput == 2):\n",
    "                        discount = 0.05\n",
    "                else:\n",
    "                    if(srNoInput == 2):\n",
    "                        discount = 0.05\n",
    "                    orderedQty = int(input(\"Enter quantity to order :\"))\n",
    "                    arrayNum = srNoInput-1\n",
    "                    price = menu[arrayNum]['price']\n",
    "                    name = menu[arrayNum]['name']\n",
    "                    print(f\"Ordered Item {name} , quantity {orderedQty} at price ${price} with discount of {discount*100} %.\")\n",
    "                    total_amount += float(price)*orderedQty\n",
    "                    print(f\"Sub Total : ${total_amount}\")\n",
    "                    print(f\"Discount {discount*100}%: ${float(total_amount*discount)}\")\n",
    "                    new_total_amount = total_amount-round(float(total_amount*discount),2)\n",
    "                    order_items.append({\n",
    "                        \"item_sr_no\":menu[arrayNum]['sr_no']\n",
    "                        ,\"item_name\":name\n",
    "                        ,\"sales_price\":price\n",
    "                        ,\"ordered_qty\":orderedQty\n",
    "                        ,\"discount %\":discount*100\n",
    "                        ,\"sub_total\":f\"${(price*orderedQty)-(price*orderedQty)*discount:.2f}\"\n",
    "                    })\n",
    "                    repeatInput = str(input(\"Would you like to order more. ?\"));\n",
    "          \n",
    "        if(repeatInput==\"no\"):\n",
    "            print(f\"Total amount = ${new_total_amount} . \\nPlease visit again . \\nThank you ❤️\")\n",
    "            repeat = input(\"New Order Yes/No:\")\n",
    "            if repeat != \"yes\":\n",
    "                break"
   ]
  },
  {
   "cell_type": "code",
   "execution_count": 38,
   "id": "f71af664-cf92-4116-941f-282274ea8d43",
   "metadata": {},
   "outputs": [
    {
     "name": "stdout",
     "output_type": "stream",
     "text": [
      "Total amount from problem 1st = $12.5\n"
     ]
    }
   ],
   "source": [
    "print(f\"Total amount from problem 1st = ${new_total_amount}\")"
   ]
  },
  {
   "cell_type": "code",
   "execution_count": 45,
   "id": "d968e95b-86c9-4f31-b23b-7062beee68ec",
   "metadata": {},
   "outputs": [
    {
     "name": "stdin",
     "output_type": "stream",
     "text": [
      "Enter promo code : FAROOK10\n"
     ]
    },
    {
     "name": "stdout",
     "output_type": "stream",
     "text": [
      "Promo Code applied .\n",
      "Total amount afer discount of 10% is $225.0 . \n",
      "Please visit again . \n",
      "Thank you ❤️\n"
     ]
    }
   ],
   "source": [
    "# Conditional statements should be used to apply discounts based on criteria (e.g., total amount, item type, or promotions).\n",
    "# total_amount=125.0 # discount\n",
    "# total_amount=250.0 # promo code discount\n",
    "disAmount = 120\n",
    "symbol = \"$\"\n",
    "\n",
    "if(new_total_amount > 120 and new_total_amount <= 150):\n",
    "    discount = .02\n",
    "    new_total_amount = new_total_amount-(total_amount*discount)\n",
    "    print(f\"Total amount after discount of 2% is ${new_total_amount} . \\nPlease visit again . \\nThank you ❤️\")\n",
    "elif(new_total_amount > 200):\n",
    "    promo_code = str(input(\"Enter promo code :\"))\n",
    "    if(promo_code == \"FAROOK10\"):\n",
    "        discount = .10\n",
    "        new_total_amount = new_total_amount-(new_total_amount*discount)\n",
    "        print(f\"Promo Code applied .\\nTotal amount after discount of 10% is ${new_total_amount} . \\nPlease visit again . \\nThank you ❤️\")"
   ]
  },
  {
   "cell_type": "code",
   "execution_count": 50,
   "id": "34776a35-b1cf-411f-9c28-f44666da540a",
   "metadata": {},
   "outputs": [
    {
     "name": "stdout",
     "output_type": "stream",
     "text": [
      "Self Ordering Counter\n"
     ]
    },
    {
     "name": "stdin",
     "output_type": "stream",
     "text": [
      "Enter your name : Farook\n",
      "Enter your mobile number without country code : 958674123\n",
      "Gender male\n"
     ]
    },
    {
     "name": "stdout",
     "output_type": "stream",
     "text": [
      "Hello Mr. Farook . \n",
      " What would you like to have for, today ?\n",
      "***** Menu items *****\n",
      "------ Restaurant Menu ------\n",
      "1 Margherita Pizza          $8.99\n",
      "2 Spaghetti Carbonara       $12.50\n",
      "3 Caesar Salad              $7.25\n",
      "4 Grilled Salmon            $15.95\n",
      "5 Tiramisu                  $5.50\n"
     ]
    },
    {
     "name": "stdin",
     "output_type": "stream",
     "text": [
      "Enter serial number of product , you want to order: 5\n",
      "Enter quantity to order : 10\n"
     ]
    },
    {
     "name": "stdout",
     "output_type": "stream",
     "text": [
      "Ordered Item Tiramisu , quantity 10 at price $5.5 with discount of 0 %.\n"
     ]
    },
    {
     "name": "stdin",
     "output_type": "stream",
     "text": [
      "Would you like to order more ? yes\n",
      "Enter serial number of product , you want to order: 2\n",
      "Enter quantity to order : 10\n"
     ]
    },
    {
     "name": "stdout",
     "output_type": "stream",
     "text": [
      "Ordered Item Spaghetti Carbonara , quantity 10 at price $12.5 with discount of 5.0 %.\n"
     ]
    },
    {
     "name": "stdin",
     "output_type": "stream",
     "text": [
      "Would you like to order more ? no\n"
     ]
    },
    {
     "name": "stdout",
     "output_type": "stream",
     "text": [
      "Total amount = $171.0\n"
     ]
    },
    {
     "name": "stdin",
     "output_type": "stream",
     "text": [
      "New Order : no\n"
     ]
    }
   ],
   "source": [
    "# item name\n",
    "\n",
    "# The system must allow for multiple items to be processed in a single transaction with discount of 5% on item sr no 2.\n",
    "sr_no=1;\n",
    "repeat = \"yes\"\n",
    "print(\"Self Ordering Counter\")\n",
    "\n",
    "order_items = []\n",
    "\n",
    "while (repeat==\"yes\"):\n",
    "    total_amount=0;\n",
    "    orderedQty=price=name=0\n",
    "    customer_name = str(input(\"Enter your name :\"))\n",
    "    phone_number = int(input(\"Enter your mobile number without country code :\"))\n",
    "    gender = str(input(\"Gender\"))\n",
    "    if (gender == \"male\" or gender == \"Male\"):\n",
    "        print(f\"Hello Mr. {customer_name} . \\n What would you like to have for, today ?\")\n",
    "    else:\n",
    "        print(f\"Hello Ms/Mrs. {customer_name} . \\n What would you like to have for, today ?\")\n",
    "    \n",
    "    print(\"*\"*5,\"Menu items\",\"*\"*5)\n",
    "    menu = [\n",
    "        {\"sr_no\": 1, \"name\": \"Whole Milk (1 Gallon)\", \"price\": 3.49},\n",
    "        {\"sr_no\": 2, \"name\": \"White Bread (Loaf)\", \"price\": 2.49},\n",
    "        {\"sr_no\": 3, \"name\": \"Brown Eggs (Dozen)\", \"price\": 3.29},\n",
    "        {\"sr_no\": 4, \"name\": \"Chicken Breast (per lb)\", \"price\": 5.29},\n",
    "        {\"sr_no\": 5, \"name\": \"Fuji Apples (per lb)\", \"price\": 1.49}\n",
    "    ]\n",
    "    \n",
    "    print(\"------ Restaurant Menu ------\")\n",
    "    for item in menu:\n",
    "        print(f\"{item['sr_no']} {item['name']:25} ${item['price']:.2f}\")\n",
    "        sr_no+=1\n",
    "    \n",
    "    srNoInput = int(input(\"Enter serial number of product , you want to order:\"))\n",
    "    discount=0\n",
    "    if(srNoInput>5):\n",
    "        print(\"Please enter serial number form 1 to 5.\")\n",
    "        srNoInput = int(input(\"Enter serial number of product , you want to order:\"))\n",
    "        if(srNoInput == 2):\n",
    "            discount = 0.05\n",
    "    else:\n",
    "        if(srNoInput == 2):\n",
    "            discount = 0.05\n",
    "        orderedQty = int(input(\"Enter quantity to order :\"))\n",
    "        arrayNum = srNoInput-1\n",
    "        price = menu[arrayNum]['price']\n",
    "        name = menu[arrayNum]['name']\n",
    "\n",
    "        print(f\"Ordered Item {name} , quantity {orderedQty} at price ${price} with discount of {discount*100} %.\")\n",
    "        total_amount = float(price)*orderedQty\n",
    "        print(f\"Sub Total : ${total_amount}\")\n",
    "        print(f\"Discount {discount*100}%: ${float(total_amount*discount)}\")\n",
    "        total_amount = total_amount-round(float(total_amount*discount),2)\n",
    "        new_total_amount=total_amount\n",
    "        \n",
    "        # order_items[menu[arrayNum]['sr_no']] = [orderedQty][discount*100]\n",
    "        \n",
    "        order_items.append({\n",
    "            \"item_sr_no\":menu[arrayNum]['sr_no']\n",
    "            ,\"item_name\":name\n",
    "            ,\"sales_price\":price\n",
    "            ,\"ordered_qty\":orderedQty\n",
    "            ,\"discount %\":discount*100\n",
    "            ,\"sub_total\":f\"${new_total_amount:.2f}\"\n",
    "        })\n",
    "        \n",
    "        repeatInput = str(input(\"Would you like to order more. ?\"))\n",
    "        while repeatInput==\"yes\":\n",
    "            if repeatInput==\"yes\":\n",
    "                orderedQty=price=name=0\n",
    "                srNoInput = int(input(\"Enter serial number of product , you want to order:\"))\n",
    "                if(srNoInput>5):\n",
    "                    print(\"Please enter serial number form 1 to 5.\")\n",
    "                    srNoInput = int(input(\"Enter serial number of product , you want to order:\"))\n",
    "                    if(srNoInput == 2):\n",
    "                        discount = 0.05\n",
    "                else:\n",
    "                    if(srNoInput == 2):\n",
    "                        discount = 0.05\n",
    "                    orderedQty = int(input(\"Enter quantity to order :\"))\n",
    "                    arrayNum = srNoInput-1\n",
    "                    price = menu[arrayNum]['price']\n",
    "                    name = menu[arrayNum]['name']\n",
    "                    print(f\"Ordered Item {name} , quantity {orderedQty} at price ${price} with discount of {discount*100} %.\")\n",
    "                    total_amount += float(price)*orderedQty\n",
    "                    print(f\"Sub Total : ${total_amount}\")\n",
    "                    print(f\"Discount {discount*100}%: ${float(total_amount*discount)}\")\n",
    "                    new_total_amount = total_amount-round(float(total_amount*discount),2)\n",
    "                    order_items.append({\n",
    "                        \"item_sr_no\":menu[arrayNum]['sr_no']\n",
    "                        ,\"item_name\":name\n",
    "                        ,\"sales_price\":price\n",
    "                        ,\"ordered_qty\":orderedQty\n",
    "                        ,\"discount %\":discount*100\n",
    "                        ,\"sub_total\":f\"${(price*orderedQty)-(price*orderedQty)*discount:.2f}\"\n",
    "                    })\n",
    "                    repeatInput = str(input(\"Would you like to order more. ?\"));\n",
    "          \n",
    "        if(repeatInput==\"no\"):\n",
    "            print(f\"Total amount = ${new_total_amount} . \\nPlease visit again . \\nThank you ❤️\")\n",
    "            repeat = input(\"New Order Yes/No:\")\n",
    "            if repeat != \"yes\":\n",
    "                break"
   ]
  },
  {
   "cell_type": "code",
   "execution_count": 41,
   "id": "29befde8-b861-4d3e-a68a-2b747975de71",
   "metadata": {},
   "outputs": [
    {
     "name": "stdout",
     "output_type": "stream",
     "text": [
      "Self Ordering Counter\n"
     ]
    },
    {
     "name": "stdin",
     "output_type": "stream",
     "text": [
      "Enter your name : faoo\n",
      "Enter your mobile number without country code : 456\n",
      "Gender male\n"
     ]
    },
    {
     "name": "stdout",
     "output_type": "stream",
     "text": [
      "Hello Mr. faoo . \n",
      " What would you like to have for, today ?\n",
      "***** Menu items *****\n",
      "------ Restaurant Menu ------\n",
      "1 Margherita Pizza          $8.99\n",
      "2 Spaghetti Carbonara       $12.50\n",
      "3 Caesar Salad              $7.25\n",
      "4 Grilled Salmon            $15.95\n",
      "5 Tiramisu                  $5.50\n"
     ]
    },
    {
     "name": "stdin",
     "output_type": "stream",
     "text": [
      "Enter serial number of product , you want to order: 1\n",
      "Enter quantity to order : 10\n"
     ]
    },
    {
     "name": "stdout",
     "output_type": "stream",
     "text": [
      "Ordered Item Margherita Pizza , quantity 10 at price $8.99 with discount of 0 %.\n",
      "Sub Total : $89.9\n",
      "Discount 0%: $0.0\n"
     ]
    },
    {
     "name": "stdin",
     "output_type": "stream",
     "text": [
      "Would you like to order more. ? yes\n",
      "Enter serial number of product , you want to order: 2\n",
      "Enter quantity to order : 20\n"
     ]
    },
    {
     "name": "stdout",
     "output_type": "stream",
     "text": [
      "Ordered Item Spaghetti Carbonara , quantity 20 at price $12.5 with discount of 5.0 %.\n",
      "Sub Total : $339.9\n",
      "Discount 5.0%: $16.995\n"
     ]
    },
    {
     "name": "stdin",
     "output_type": "stream",
     "text": [
      "Would you like to order more. ? no\n"
     ]
    },
    {
     "name": "stdout",
     "output_type": "stream",
     "text": [
      "Total amount = $322.9 . \n",
      "Please visit again . \n",
      "Thank you ❤️\n"
     ]
    },
    {
     "name": "stdin",
     "output_type": "stream",
     "text": [
      "New Order Yes/No: no\n"
     ]
    }
   ],
   "source": [
    "# Problem - 3rd ::: The program should calculate and display the subtotal, any discounts applied, and the final total amount due.\n",
    "\n",
    "sr_no=1;\n",
    "repeat = \"yes\"\n",
    "print(\"Self Ordering Counter\")\n",
    "\n",
    "order_items = []\n",
    "\n",
    "while (repeat==\"yes\"):\n",
    "    total_amount=0;\n",
    "    orderedQty=price=name=0\n",
    "    customer_name = str(input(\"Enter your name :\"))\n",
    "    phone_number = int(input(\"Enter your mobile number without country code :\"))\n",
    "    gender = str(input(\"Gender\"))\n",
    "    if (gender == \"male\" or gender == \"Male\"):\n",
    "        print(f\"Hello Mr. {customer_name} . \\n What would you like to have for, today ?\")\n",
    "    else:\n",
    "        print(f\"Hello Ms/Mrs. {customer_name} . \\n What would you like to have for, today ?\")\n",
    "    \n",
    "    print(\"*\"*5,\"Menu items\",\"*\"*5)\n",
    "    menu = [\n",
    "        {\"sr_no\": 1, \"name\": \"Whole Milk (1 Gallon)\", \"price\": 3.49},\n",
    "        {\"sr_no\": 2, \"name\": \"White Bread (Loaf)\", \"price\": 2.49},\n",
    "        {\"sr_no\": 3, \"name\": \"Brown Eggs (Dozen)\", \"price\": 3.29},\n",
    "        {\"sr_no\": 4, \"name\": \"Chicken Breast (per lb)\", \"price\": 5.29},\n",
    "        {\"sr_no\": 5, \"name\": \"Fuji Apples (per lb)\", \"price\": 1.49}\n",
    "    ]\n",
    "    \n",
    "    print(\"------ Restaurant Menu ------\")\n",
    "    for item in menu:\n",
    "        print(f\"{item['sr_no']} {item['name']:25} ${item['price']:.2f}\")\n",
    "        sr_no+=1\n",
    "    \n",
    "    srNoInput = int(input(\"Enter serial number of product , you want to order:\"))\n",
    "    discount=0\n",
    "    if(srNoInput>5):\n",
    "        print(\"Please enter serial number form 1 to 5.\")\n",
    "        srNoInput = int(input(\"Enter serial number of product , you want to order:\"))\n",
    "        if(srNoInput == 2):\n",
    "            discount = 0.05\n",
    "    else:\n",
    "        if(srNoInput == 2):\n",
    "            discount = 0.05\n",
    "        orderedQty = int(input(\"Enter quantity to order :\"))\n",
    "        arrayNum = srNoInput-1\n",
    "        price = menu[arrayNum]['price']\n",
    "        name = menu[arrayNum]['name']\n",
    "\n",
    "        print(f\"Ordered Item {name} , quantity {orderedQty} at price ${price} with discount of {discount*100} %.\")\n",
    "        total_amount = float(price)*orderedQty\n",
    "        print(f\"Sub Total : ${total_amount}\")\n",
    "        print(f\"Discount {discount*100}%: ${float(total_amount*discount)}\")\n",
    "        total_amount = total_amount-round(float(total_amount*discount),2)\n",
    "        new_total_amount=total_amount\n",
    "        \n",
    "        # order_items[menu[arrayNum]['sr_no']] = [orderedQty][discount*100]\n",
    "        \n",
    "        order_items.append({\n",
    "            \"item_sr_no\":menu[arrayNum]['sr_no']\n",
    "            ,\"item_name\":name\n",
    "            ,\"sales_price\":price\n",
    "            ,\"ordered_qty\":orderedQty\n",
    "            ,\"discount %\":discount*100\n",
    "            ,\"sub_total\":f\"${new_total_amount:.2f}\"\n",
    "        })\n",
    "        \n",
    "        repeatInput = str(input(\"Would you like to order more. ?\"))\n",
    "        while repeatInput==\"yes\":\n",
    "            if repeatInput==\"yes\":\n",
    "                orderedQty=price=name=0\n",
    "                srNoInput = int(input(\"Enter serial number of product , you want to order:\"))\n",
    "                if(srNoInput>5):\n",
    "                    print(\"Please enter serial number form 1 to 5.\")\n",
    "                    srNoInput = int(input(\"Enter serial number of product , you want to order:\"))\n",
    "                    if(srNoInput == 2):\n",
    "                        discount = 0.05\n",
    "                else:\n",
    "                    if(srNoInput == 2):\n",
    "                        discount = 0.05\n",
    "                    orderedQty = int(input(\"Enter quantity to order :\"))\n",
    "                    arrayNum = srNoInput-1\n",
    "                    price = menu[arrayNum]['price']\n",
    "                    name = menu[arrayNum]['name']\n",
    "                    print(f\"Ordered Item {name} , quantity {orderedQty} at price ${price} with discount of {discount*100} %.\")\n",
    "                    total_amount += float(price)*orderedQty\n",
    "                    print(f\"Sub Total : ${total_amount}\")\n",
    "                    print(f\"Discount {discount*100}%: ${float(total_amount*discount)}\")\n",
    "                    new_total_amount = total_amount-round(float(total_amount*discount),2)\n",
    "                    order_items.append({\n",
    "                        \"item_sr_no\":menu[arrayNum]['sr_no']\n",
    "                        ,\"item_name\":name\n",
    "                        ,\"sales_price\":price\n",
    "                        ,\"ordered_qty\":orderedQty\n",
    "                        ,\"discount %\":discount*100\n",
    "                        ,\"sub_total\":f\"${(price*orderedQty)-(price*orderedQty)*discount:.2f}\"\n",
    "                    })\n",
    "                    repeatInput = str(input(\"Would you like to order more. ?\"));\n",
    "          \n",
    "        if(repeatInput==\"no\"):\n",
    "            print(f\"Total amount = ${new_total_amount} . \\nPlease visit again . \\nThank you ❤️\")\n",
    "            repeat = input(\"New Order Yes/No:\")\n",
    "            if repeat != \"yes\":\n",
    "                break"
   ]
  },
  {
   "cell_type": "code",
   "execution_count": 8,
   "id": "ebe74f95-989b-4e48-93a8-087f0399a209",
   "metadata": {},
   "outputs": [
    {
     "name": "stdout",
     "output_type": "stream",
     "text": [
      "Self Ordering Counter\n"
     ]
    },
    {
     "name": "stdin",
     "output_type": "stream",
     "text": [
      "Enter your name : far\n",
      "Enter your mobile number without country code : 10\n",
      "Gender male\n"
     ]
    },
    {
     "name": "stdout",
     "output_type": "stream",
     "text": [
      "Hello Mr. far . \n",
      " What would you like to have for, today ?\n",
      "***** Menu items *****\n",
      "------ Restaurant Menu ------\n",
      "1 Margherita Pizza          $8.99\n",
      "2 Spaghetti Carbonara       $12.50\n",
      "3 Caesar Salad              $7.25\n",
      "4 Grilled Salmon            $15.95\n",
      "5 Tiramisu                  $5.50\n"
     ]
    },
    {
     "name": "stdin",
     "output_type": "stream",
     "text": [
      "Enter serial number of product , you want to order: 1\n",
      "Enter quantity to order : 10\n"
     ]
    },
    {
     "name": "stdout",
     "output_type": "stream",
     "text": [
      "Ordered Item Margherita Pizza , quantity 10 at price $8.99 with discount of 0 %.\n",
      "Sub Total : $89.9\n",
      "Discount 0%: $0.0\n"
     ]
    },
    {
     "name": "stdin",
     "output_type": "stream",
     "text": [
      "Would you like to order more. ? no\n"
     ]
    },
    {
     "name": "stdout",
     "output_type": "stream",
     "text": [
      "::: Receipt :::\n",
      "item_sr_no|item_name|sales_price|ordered_qty|discount %|sub_total|\n",
      "1|Margherita Pizza|8.99|10|0|$89.90|Total amount = $89.9 . \n",
      "Please visit again . \n",
      "Thank you ❤️\n"
     ]
    },
    {
     "ename": "KeyboardInterrupt",
     "evalue": "Interrupted by user",
     "output_type": "error",
     "traceback": [
      "\u001b[31m---------------------------------------------------------------------------\u001b[39m",
      "\u001b[31mKeyboardInterrupt\u001b[39m                         Traceback (most recent call last)",
      "\u001b[36mCell\u001b[39m\u001b[36m \u001b[39m\u001b[32mIn[8]\u001b[39m\u001b[32m, line 110\u001b[39m\n\u001b[32m    106\u001b[39m \u001b[38;5;66;03m# df=pd.DataFrame(order_items)\u001b[39;00m\n\u001b[32m    107\u001b[39m \u001b[38;5;66;03m# print(df.to_string(index=False))\u001b[39;00m\n\u001b[32m    109\u001b[39m \u001b[38;5;28mprint\u001b[39m(\u001b[33mf\u001b[39m\u001b[33m\"\u001b[39m\u001b[33mTotal amount = $\u001b[39m\u001b[38;5;132;01m{\u001b[39;00mnew_total_amount\u001b[38;5;132;01m}\u001b[39;00m\u001b[33m . \u001b[39m\u001b[38;5;130;01m\\n\u001b[39;00m\u001b[33mPlease visit again . \u001b[39m\u001b[38;5;130;01m\\n\u001b[39;00m\u001b[33mThank you ❤️\u001b[39m\u001b[33m\"\u001b[39m)\n\u001b[32m--> \u001b[39m\u001b[32m110\u001b[39m repeat = \u001b[38;5;28;43minput\u001b[39;49m\u001b[43m(\u001b[49m\u001b[33;43m\"\u001b[39;49m\u001b[33;43mNew Order Yes/No:\u001b[39;49m\u001b[33;43m\"\u001b[39;49m\u001b[43m)\u001b[49m\n\u001b[32m    111\u001b[39m \u001b[38;5;28;01mif\u001b[39;00m repeat != \u001b[33m\"\u001b[39m\u001b[33myes\u001b[39m\u001b[33m\"\u001b[39m:\n\u001b[32m    112\u001b[39m     \u001b[38;5;28;01mbreak\u001b[39;00m\n",
      "\u001b[36mFile \u001b[39m\u001b[32m~\\AppData\\Local\\Programs\\Python\\Python313\\Lib\\site-packages\\ipykernel\\kernelbase.py:1282\u001b[39m, in \u001b[36mKernel.raw_input\u001b[39m\u001b[34m(self, prompt)\u001b[39m\n\u001b[32m   1280\u001b[39m     msg = \u001b[33m\"\u001b[39m\u001b[33mraw_input was called, but this frontend does not support input requests.\u001b[39m\u001b[33m\"\u001b[39m\n\u001b[32m   1281\u001b[39m     \u001b[38;5;28;01mraise\u001b[39;00m StdinNotImplementedError(msg)\n\u001b[32m-> \u001b[39m\u001b[32m1282\u001b[39m \u001b[38;5;28;01mreturn\u001b[39;00m \u001b[38;5;28;43mself\u001b[39;49m\u001b[43m.\u001b[49m\u001b[43m_input_request\u001b[49m\u001b[43m(\u001b[49m\n\u001b[32m   1283\u001b[39m \u001b[43m    \u001b[49m\u001b[38;5;28;43mstr\u001b[39;49m\u001b[43m(\u001b[49m\u001b[43mprompt\u001b[49m\u001b[43m)\u001b[49m\u001b[43m,\u001b[49m\n\u001b[32m   1284\u001b[39m \u001b[43m    \u001b[49m\u001b[38;5;28;43mself\u001b[39;49m\u001b[43m.\u001b[49m\u001b[43m_parent_ident\u001b[49m\u001b[43m[\u001b[49m\u001b[33;43m\"\u001b[39;49m\u001b[33;43mshell\u001b[39;49m\u001b[33;43m\"\u001b[39;49m\u001b[43m]\u001b[49m\u001b[43m,\u001b[49m\n\u001b[32m   1285\u001b[39m \u001b[43m    \u001b[49m\u001b[38;5;28;43mself\u001b[39;49m\u001b[43m.\u001b[49m\u001b[43mget_parent\u001b[49m\u001b[43m(\u001b[49m\u001b[33;43m\"\u001b[39;49m\u001b[33;43mshell\u001b[39;49m\u001b[33;43m\"\u001b[39;49m\u001b[43m)\u001b[49m\u001b[43m,\u001b[49m\n\u001b[32m   1286\u001b[39m \u001b[43m    \u001b[49m\u001b[43mpassword\u001b[49m\u001b[43m=\u001b[49m\u001b[38;5;28;43;01mFalse\u001b[39;49;00m\u001b[43m,\u001b[49m\n\u001b[32m   1287\u001b[39m \u001b[43m\u001b[49m\u001b[43m)\u001b[49m\n",
      "\u001b[36mFile \u001b[39m\u001b[32m~\\AppData\\Local\\Programs\\Python\\Python313\\Lib\\site-packages\\ipykernel\\kernelbase.py:1325\u001b[39m, in \u001b[36mKernel._input_request\u001b[39m\u001b[34m(self, prompt, ident, parent, password)\u001b[39m\n\u001b[32m   1322\u001b[39m \u001b[38;5;28;01mexcept\u001b[39;00m \u001b[38;5;167;01mKeyboardInterrupt\u001b[39;00m:\n\u001b[32m   1323\u001b[39m     \u001b[38;5;66;03m# re-raise KeyboardInterrupt, to truncate traceback\u001b[39;00m\n\u001b[32m   1324\u001b[39m     msg = \u001b[33m\"\u001b[39m\u001b[33mInterrupted by user\u001b[39m\u001b[33m\"\u001b[39m\n\u001b[32m-> \u001b[39m\u001b[32m1325\u001b[39m     \u001b[38;5;28;01mraise\u001b[39;00m \u001b[38;5;167;01mKeyboardInterrupt\u001b[39;00m(msg) \u001b[38;5;28;01mfrom\u001b[39;00m\u001b[38;5;250m \u001b[39m\u001b[38;5;28;01mNone\u001b[39;00m\n\u001b[32m   1326\u001b[39m \u001b[38;5;28;01mexcept\u001b[39;00m \u001b[38;5;167;01mException\u001b[39;00m:\n\u001b[32m   1327\u001b[39m     \u001b[38;5;28mself\u001b[39m.log.warning(\u001b[33m\"\u001b[39m\u001b[33mInvalid Message:\u001b[39m\u001b[33m\"\u001b[39m, exc_info=\u001b[38;5;28;01mTrue\u001b[39;00m)\n",
      "\u001b[31mKeyboardInterrupt\u001b[39m: Interrupted by user"
     ]
    }
   ],
   "source": [
    "# 4.The itemized bill should display the name, quantity, price of each item, and the final total after discounts.\n",
    "sr_no=1;\n",
    "repeat = \"yes\"\n",
    "print(\"Self Ordering Counter\")\n",
    "\n",
    "order_items = []\n",
    "\n",
    "while (repeat==\"yes\"):\n",
    "    total_amount=0;\n",
    "    orderedQty=price=name=0\n",
    "    customer_name = str(input(\"Enter your name :\"))\n",
    "    phone_number = int(input(\"Enter your mobile number without country code :\"))\n",
    "    gender = str(input(\"Gender\"))\n",
    "    if (gender == \"male\" or gender == \"Male\"):\n",
    "        print(f\"Hello Mr. {customer_name} . \\n What would you like to have for, today ?\")\n",
    "    else:\n",
    "        print(f\"Hello Ms/Mrs. {customer_name} . \\n What would you like to have for, today ?\")\n",
    "    \n",
    "    print(\"*\"*5,\"Menu items\",\"*\"*5)\n",
    "    menu = [\n",
    "        {\"sr_no\": 1, \"name\": \"Whole Milk (1 Gallon)\", \"price\": 3.49},\n",
    "        {\"sr_no\": 2, \"name\": \"White Bread (Loaf)\", \"price\": 2.49},\n",
    "        {\"sr_no\": 3, \"name\": \"Brown Eggs (Dozen)\", \"price\": 3.29},\n",
    "        {\"sr_no\": 4, \"name\": \"Chicken Breast (per lb)\", \"price\": 5.29},\n",
    "        {\"sr_no\": 5, \"name\": \"Fuji Apples (per lb)\", \"price\": 1.49}\n",
    "    ]\n",
    "    \n",
    "    print(\"------ Restaurant Menu ------\")\n",
    "    for item in menu:\n",
    "        print(f\"{item['sr_no']} {item['name']:25} ${item['price']:.2f}\")\n",
    "        sr_no+=1\n",
    "    \n",
    "    srNoInput = int(input(\"Enter serial number of product , you want to order:\"))\n",
    "    discount=0\n",
    "    if(srNoInput>5):\n",
    "        print(\"Please enter serial number form 1 to 5.\")\n",
    "        srNoInput = int(input(\"Enter serial number of product , you want to order:\"))\n",
    "        if(srNoInput == 2):\n",
    "            discount = 0.05\n",
    "    else:\n",
    "        if(srNoInput == 2):\n",
    "            discount = 0.05\n",
    "        orderedQty = int(input(\"Enter quantity to order :\"))\n",
    "        arrayNum = srNoInput-1\n",
    "        price = menu[arrayNum]['price']\n",
    "        name = menu[arrayNum]['name']\n",
    "\n",
    "        print(f\"Ordered Item {name} , quantity {orderedQty} at price ${price} with discount of {discount*100} %.\")\n",
    "        total_amount = float(price)*orderedQty\n",
    "        print(f\"Sub Total : ${total_amount}\")\n",
    "        print(f\"Discount {discount*100}%: ${float(total_amount*discount)}\")\n",
    "        total_amount = total_amount-round(float(total_amount*discount),2)\n",
    "        new_total_amount=total_amount\n",
    "        \n",
    "        # order_items[menu[arrayNum]['sr_no']] = [orderedQty][discount*100]\n",
    "        \n",
    "        order_items.append({\n",
    "            \"item_sr_no\":menu[arrayNum]['sr_no']\n",
    "            ,\"item_name\":name\n",
    "            ,\"sales_price\":price\n",
    "            ,\"ordered_qty\":orderedQty\n",
    "            ,\"discount %\":discount*100\n",
    "            ,\"sub_total\":f\"${new_total_amount:.2f}\"\n",
    "        })\n",
    "        \n",
    "        repeatInput = str(input(\"Would you like to order more. ?\"))\n",
    "        while repeatInput==\"yes\":\n",
    "            if repeatInput==\"yes\":\n",
    "                orderedQty=price=name=0\n",
    "                srNoInput = int(input(\"Enter serial number of product , you want to order:\"))\n",
    "                if(srNoInput>5):\n",
    "                    print(\"Please enter serial number form 1 to 5.\")\n",
    "                    srNoInput = int(input(\"Enter serial number of product , you want to order:\"))\n",
    "                    if(srNoInput == 2):\n",
    "                        discount = 0.05\n",
    "                else:\n",
    "                    if(srNoInput == 2):\n",
    "                        discount = 0.05\n",
    "                    orderedQty = int(input(\"Enter quantity to order :\"))\n",
    "                    arrayNum = srNoInput-1\n",
    "                    price = menu[arrayNum]['price']\n",
    "                    name = menu[arrayNum]['name']\n",
    "                    print(f\"Ordered Item {name} , quantity {orderedQty} at price ${price} with discount of {discount*100} %.\")\n",
    "                    total_amount += float(price)*orderedQty\n",
    "                    print(f\"Sub Total : ${float(price)*orderedQty}\")\n",
    "                    print(f\"Discount {discount*100}%: ${float((price*orderedQty)*discount)}\")\n",
    "                    new_total_amount = total_amount-round(float(total_amount*discount),2)\n",
    "                    order_items.append({\n",
    "                        \"item_sr_no\":menu[arrayNum]['sr_no']\n",
    "                        ,\"item_name\":name\n",
    "                        ,\"sales_price\":price\n",
    "                        ,\"ordered_qty\":orderedQty\n",
    "                        ,\"discount %\":discount*100\n",
    "                        ,\"sub_total\":f\"${(price*orderedQty)-(price*orderedQty)*discount:.2f}\"\n",
    "                    })\n",
    "                    repeatInput = str(input(\"Would you like to order more. ?\"));\n",
    "          \n",
    "        if(repeatInput==\"no\"):\n",
    "            print(f\"::: Receipt :::\")\n",
    "            # for item in order_items:\n",
    "            #     for key in item.keys():\n",
    "            #         print(f\"{key}\",end=\"|\")\n",
    "            #     print()\n",
    "            #     for value in item.values():\n",
    "            #         print(f\"{value}\",end=\"|\")\n",
    "\n",
    "            # print()\n",
    "\n",
    "            df=pd.DataFrame(order_items)\n",
    "            print(df.to_string(index=False))\n",
    "            \n",
    "            print(f\"Total amount = ${new_total_amount} . \\nPlease visit again . \\nThank you ❤️\")\n",
    "            repeat = input(\"New Order Yes/No:\")\n",
    "            if repeat != \"yes\":\n",
    "                break"
   ]
  },
  {
   "cell_type": "code",
   "execution_count": null,
   "id": "d156c184-fafe-4872-a25a-4adc241cd472",
   "metadata": {},
   "outputs": [],
   "source": [
    "# problem - 5 : Loops should be utilized to handle continuous input of items until the billing process is complete.\n",
    "\n",
    "\n",
    "# 4.The itemized bill should display the name, quantity, price of each item, and the final total after discounts.\n",
    "sr_no=1;\n",
    "repeat = \"yes\"\n",
    "print(\"Self Ordering Counter\")\n",
    "\n",
    "order_items = []\n",
    "\n",
    "while (repeat==\"yes\"):\n",
    "    total_amount=0;\n",
    "    orderedQty=price=name=0\n",
    "    customer_name = str(input(\"Enter your name :\"))\n",
    "    phone_number = int(input(\"Enter your mobile number without country code :\"))\n",
    "    gender = str(input(\"Gender\"))\n",
    "    if (gender == \"male\" or gender == \"Male\"):\n",
    "        print(f\"Hello Mr. {customer_name} . \\n What would you like to have for, today ?\")\n",
    "    else:\n",
    "        print(f\"Hello Ms/Mrs. {customer_name} . \\n What would you like to have for, today ?\")\n",
    "    \n",
    "    print(\"*\"*5,\"Menu items\",\"*\"*5)\n",
    "    menu = [\n",
    "        {\"sr_no\": 1, \"name\": \"Whole Milk (1 Gallon)\", \"price\": 3.49},\n",
    "        {\"sr_no\": 2, \"name\": \"White Bread (Loaf)\", \"price\": 2.49},\n",
    "        {\"sr_no\": 3, \"name\": \"Brown Eggs (Dozen)\", \"price\": 3.29},\n",
    "        {\"sr_no\": 4, \"name\": \"Chicken Breast (per lb)\", \"price\": 5.29},\n",
    "        {\"sr_no\": 5, \"name\": \"Fuji Apples (per lb)\", \"price\": 1.49}\n",
    "    ]\n",
    "    \n",
    "    print(\"------ Restaurant Menu ------\")\n",
    "    for item in menu:\n",
    "        print(f\"{item['sr_no']} {item['name']:25} ${item['price']:.2f}\")\n",
    "        sr_no+=1\n",
    "    \n",
    "    srNoInput = int(input(\"Enter serial number of product , you want to order:\"))\n",
    "    discount=0\n",
    "    if(srNoInput>5):\n",
    "        print(\"Please enter serial number form 1 to 5.\")\n",
    "        srNoInput = int(input(\"Enter serial number of product , you want to order:\"))\n",
    "        if(srNoInput == 2):\n",
    "            discount = 0.05\n",
    "    else:\n",
    "        if(srNoInput == 2):\n",
    "            discount = 0.05\n",
    "        orderedQty = int(input(\"Enter quantity to order :\"))\n",
    "        arrayNum = srNoInput-1\n",
    "        price = menu[arrayNum]['price']\n",
    "        name = menu[arrayNum]['name']\n",
    "\n",
    "        print(f\"Ordered Item {name} , quantity {orderedQty} at price ${price} with discount of {discount*100} %.\")\n",
    "        total_amount = float(price)*orderedQty\n",
    "        print(f\"Sub Total : ${total_amount}\")\n",
    "        print(f\"Discount {discount*100}%: ${float(total_amount*discount)}\")\n",
    "        total_amount = total_amount-round(float(total_amount*discount),2)\n",
    "        new_total_amount=total_amount\n",
    "        \n",
    "        # order_items[menu[arrayNum]['sr_no']] = [orderedQty][discount*100]\n",
    "        \n",
    "        order_items.append({\n",
    "            \"item_sr_no\":menu[arrayNum]['sr_no']\n",
    "            ,\"item_name\":name\n",
    "            ,\"sales_price\":price\n",
    "            ,\"ordered_qty\":orderedQty\n",
    "            ,\"discount %\":discount*100\n",
    "            ,\"sub_total\":f\"${new_total_amount:.2f}\"\n",
    "        })\n",
    "        \n",
    "        repeatInput = str(input(\"Would you like to order more. ?\"))\n",
    "        while repeatInput==\"yes\":\n",
    "            if repeatInput==\"yes\":\n",
    "                orderedQty=price=name=0\n",
    "                srNoInput = int(input(\"Enter serial number of product , you want to order:\"))\n",
    "                if(srNoInput>5):\n",
    "                    print(\"Please enter serial number form 1 to 5.\")\n",
    "                    srNoInput = int(input(\"Enter serial number of product , you want to order:\"))\n",
    "                    if(srNoInput == 2):\n",
    "                        discount = 0.05\n",
    "                else:\n",
    "                    if(srNoInput == 2):\n",
    "                        discount = 0.05\n",
    "                    orderedQty = int(input(\"Enter quantity to order :\"))\n",
    "                    arrayNum = srNoInput-1\n",
    "                    price = menu[arrayNum]['price']\n",
    "                    name = menu[arrayNum]['name']\n",
    "                    print(f\"Ordered Item {name} , quantity {orderedQty} at price ${price} with discount of {discount*100} %.\")\n",
    "                    total_amount += float(price)*orderedQty\n",
    "                    print(f\"Sub Total : ${float(price)*orderedQty}\")\n",
    "                    print(f\"Discount {discount*100}%: ${float((price*orderedQty)*discount)}\")\n",
    "                    new_total_amount = total_amount-round(float(total_amount*discount),2)\n",
    "                    order_items.append({\n",
    "                        \"item_sr_no\":menu[arrayNum]['sr_no']\n",
    "                        ,\"item_name\":name\n",
    "                        ,\"sales_price\":price\n",
    "                        ,\"ordered_qty\":orderedQty\n",
    "                        ,\"discount %\":discount*100\n",
    "                        ,\"sub_total\":f\"${(price*orderedQty)-(price*orderedQty)*discount:.2f}\"\n",
    "                    })\n",
    "                    repeatInput = str(input(\"Would you like to order more. ?\"));\n",
    "          \n",
    "        if(repeatInput==\"no\"):\n",
    "            print(f\"::: Receipt :::\")\n",
    "            # for item in order_items:\n",
    "            #     for key in item.keys():\n",
    "            #         print(f\"{key}\",end=\"|\")\n",
    "            #     print()\n",
    "            #     for value in item.values():\n",
    "            #         print(f\"{value}\",end=\"|\")\n",
    "\n",
    "            # print()\n",
    "\n",
    "            df=pd.DataFrame(order_items)\n",
    "            print(df.to_string(index=False))\n",
    "            \n",
    "            print(f\"Total amount = ${new_total_amount} . \\nPlease visit again . \\nThank you ❤️\")\n",
    "            repeat = input(\"New Order Yes/No:\")\n",
    "            if repeat != \"yes\":\n",
    "                break"
   ]
  }
 ],
 "metadata": {
  "kernelspec": {
   "display_name": "Python 3 (ipykernel)",
   "language": "python",
   "name": "python3"
  },
  "language_info": {
   "codemirror_mode": {
    "name": "ipython",
    "version": 3
   },
   "file_extension": ".py",
   "mimetype": "text/x-python",
   "name": "python",
   "nbconvert_exporter": "python",
   "pygments_lexer": "ipython3",
   "version": "3.13.5"
  }
 },
 "nbformat": 4,
 "nbformat_minor": 5
}
