{
 "cells": [
  {
   "cell_type": "code",
   "execution_count": 423,
   "id": "3cae930c-825e-4da5-b7f7-5b18cf7accd4",
   "metadata": {},
   "outputs": [],
   "source": [
    "import numpy as np\n",
    "import pandas as pd\n",
    "import random, datetime\n",
    "import locale # used to format currency\n",
    "import re\n",
    "from datetime import datetime\n",
    "import os"
   ]
  },
  {
   "cell_type": "markdown",
   "id": "14b69b27-4ef2-4dc3-ac6a-4110c3951c4d",
   "metadata": {},
   "source": [
    "<b style=\"color:blue;font-size:25px\">\n",
    "    1. Account Management:\n",
    "</b>"
   ]
  },
  {
   "cell_type": "code",
   "execution_count": 424,
   "id": "18bd47b9-5242-493e-9f60-e76c459b1c99",
   "metadata": {},
   "outputs": [],
   "source": [
    "def create_account(name,account_type,initial_balance,password):\n",
    "    account_details={}\n",
    "    account_number = generate_account_number()\n",
    "    account_number = str(account_number) + name[:2] + account_type[:1]\n",
    "    # print(account_number)\n",
    "    initial_balance = locale.currency(initial_balance, grouping=True)\n",
    "    accounts_details.append({\n",
    "        \"name\":name,\n",
    "        \"account_type\":account_type,\n",
    "        \"account_number\":account_number,\n",
    "        \"mpin\":password,\n",
    "        \"transactions\": [(datetime.today(), \"initial_balance\", initial_balance)]\n",
    "    })\n",
    "    \n",
    "    with open(f\"{account_number}.txt\", \"x\", encoding=\"utf-8\") as f:\n",
    "        welcome_note = (\n",
    "            f\"Welcome {name},\\n\"\n",
    "            \"State Bank of India.\\n\"\n",
    "            f\"Your {account_type} account has been created successfully.\\n\"\n",
    "            f\"mpin : {password}\\n\"\n",
    "            f\"Initial balance : {initial_balance}\"\n",
    "        )\n",
    "        f.write(welcome_note)\n",
    "    account_details = {\n",
    "        \"name\":name,\n",
    "        \"account_type\":account_type,\n",
    "        \"account_number\":account_number,\n",
    "        \"initial_balance\": initial_balance,\n",
    "        \"mpin\":password\n",
    "    }\n",
    "    return account_details"
   ]
  },
  {
   "cell_type": "code",
   "execution_count": 425,
   "id": "6e1072e6-00e0-4dd7-84f2-38a0057f0d3f",
   "metadata": {},
   "outputs": [],
   "source": [
    "def account_login(file_path, mpin):\n",
    "    with open(file_path, \"r\", encoding=\"utf-8\") as f:\n",
    "        content = f.read()\n",
    "    \n",
    "    match = re.search(r'mpin\\s*:\\s*(\\d{4})', content)\n",
    "    \n",
    "    if match:\n",
    "        file_mpin = match.group(1)  # Extract the digits\n",
    "        if str(mpin) == file_mpin:\n",
    "            return {\"status\": True, \"message\": \"Login successful\"}\n",
    "    \n",
    "    return {\"status\": False, \"message\": \"Login failed. Please check your MPIN.\"}"
   ]
  },
  {
   "cell_type": "code",
   "execution_count": 426,
   "id": "83623477-fd48-4945-aceb-42fe7efe7550",
   "metadata": {},
   "outputs": [],
   "source": [
    "def view_transaction(file_path):\n",
    "    with open(file_path, \"r\", encoding=\"utf-8\") as f:\n",
    "        content = f.read()\n",
    "    transactions = re.findall(r'(Initial balance|Deposit|Withdrawal|Transfer)\\s*:\\s*₹\\s*([\\d,]+\\.\\d{2})', content)\n",
    "    transactions_list=[]\n",
    "    for t_type, amount_str in transactions:\n",
    "        amount = float(amount_str.replace(\",\", \"\"))\n",
    "        \n",
    "        #if t_type == \"Initial balance\":\n",
    "        transactions_list.append({\n",
    "            \"transaction_type\":t_type,\n",
    "            \"amount\":amount\n",
    "        })\n",
    "    transaction_details = pd.DataFrame(transactions_list)\n",
    "    return transaction_details"
   ]
  },
  {
   "cell_type": "code",
   "execution_count": 427,
   "id": "5061d547-b3c7-4c21-bdf9-a65bb8c84d1c",
   "metadata": {},
   "outputs": [],
   "source": [
    "def view_account(file_path):\n",
    "    with open(file_path, \"r\", encoding=\"utf-8\") as f:\n",
    "        text = f.read()\n",
    "        \n",
    "        name_match = re.search(r\"Welcome\\s+(.+?),\", text)\n",
    "        name = name_match.group(1) if name_match else None\n",
    "        \n",
    "        account_match = re.search(r\"Your\\s+(.+?)\\s+has been created\", text)\n",
    "        account_type = account_match.group(1) if account_match else None\n",
    "        \n",
    "        mpin_match = re.search(r\"mpin\\s*:\\s*(\\d{4})\", text)\n",
    "        mpin = mpin_match.group(1) if mpin_match else None\n",
    "        \n",
    "        df = pd.DataFrame([{\n",
    "            \"name\": name,\n",
    "            \"account_type\": account_type,\n",
    "            \"mpin\": mpin\n",
    "        }])\n",
    "\n",
    "        return df"
   ]
  },
  {
   "cell_type": "code",
   "execution_count": 428,
   "id": "cbcbe306-668a-43b8-8987-8072faa0a9e7",
   "metadata": {},
   "outputs": [],
   "source": [
    "#customer_type = input(\"Please enter new to create account / old to access your account.\")\n",
    "def main_menu():\n",
    "    \n",
    "    while True:\n",
    "        accounts_details = []\n",
    "        locale.setlocale(locale.LC_ALL, 'en_IN.UTF-8')\n",
    "        # account_number = \"\"\n",
    "        # name = \"\"\n",
    "        # account_type = \"\"\n",
    "        \n",
    "        # accounts[\"name\"] = accounts[\"account_type\"] = accounts[\"account_number\"] = accounts[\"initial_balance\"] = \"\"\n",
    "        transactions_list = []\n",
    "        print(\"\\n===== BANK MENU =====\")\n",
    "        print(\"1. Open Account\")\n",
    "        print(\"2. View Account\")\n",
    "        print(\"3. Deposit\")\n",
    "        print(\"4. Withdraw\")\n",
    "        print(\"5. Transfer\")\n",
    "        print(\"6. View Transactions\")\n",
    "        print(\"7. Exit\")\n",
    "        customer_type = input(\"Enter choice: \")\n",
    "        if customer_type==\"1\":\n",
    "            name = input(\"Enter your name:\")\n",
    "            account_type = input(\"Type (savings/current):\")\n",
    "            password = input(\"Please enter MPIN:\")\n",
    "            initial_balance = float(input(\"Initial balance:\"))\n",
    "            accounts = create_account(name,account_type,initial_balance,password)\n",
    "        \n",
    "            # create_account return\n",
    "            if not accounts:\n",
    "                print(\"Oops!, Sorry for inconvenience.\")\n",
    "            else:\n",
    "                print()\n",
    "                print(\"Account created successfully.\")\n",
    "                for customer,detail in accounts.items():\n",
    "                    print(f\"{customer} : {detail}\")\n",
    "        elif customer_type==\"2\":\n",
    "            account_number = str(input(\"Please enter your account number.\"))\n",
    "            account_number = account_number+\".txt\"\n",
    "            if os.path.exists(account_number):\n",
    "                mpin = input(\"Please enter your mpin.\")\n",
    "                if len(mpin) == 4:\n",
    "                    login = account_login(account_number,mpin)\n",
    "                    if login['status'] == True:\n",
    "                        view_account_details = view_account(account_number)\n",
    "                        print(view_account_details.to_string(index=False))\n",
    "                else:\n",
    "                    print(\"Please enter correct mpin.\")\n",
    "            else:\n",
    "                print(\"No account found.Please re-check account number.\")\n",
    "        elif customer_type==\"3\" or customer_type==\"4\" or customer_type==\"5\":\n",
    "            account_number = str(input(\"Please enter your account number.\"))\n",
    "            account_number = account_number+\".txt\"\n",
    "            if os.path.exists(account_number):\n",
    "                mpin = input(\"Please enter your mpin.\")\n",
    "                if len(mpin) == 4:\n",
    "                    login = account_login(account_number,mpin)\n",
    "                    if login['status'] == True:\n",
    "                        transaction_complete = transaction_type(customer_type,account_number)\n",
    "                        print(transaction_complete)\n",
    "                else:\n",
    "                    print(\"Please enter correct mpin.\")\n",
    "            else:\n",
    "                print(\"No account found.Please re-check account number.\")\n",
    "        elif customer_type==\"6\":\n",
    "            account_number = str(input(\"Please enter your account number.\"))\n",
    "            account_number = account_number+\".txt\"\n",
    "            if os.path.exists(account_number):\n",
    "                mpin = input(\"Please enter your mpin.\")\n",
    "                if len(mpin) == 4:\n",
    "                    login = account_login(account_number,mpin)\n",
    "                    if login['status'] == True:\n",
    "                        view_trans = view_transaction(account_number)\n",
    "                        print(view_trans.to_string(index=False))\n",
    "                else:\n",
    "                    print(\"Please enter correct mpin.\")\n",
    "            else:\n",
    "                print(\"No account found.Please re-check account number.\")\n",
    "        elif customer_type==\"7\":\n",
    "            return print(\"Thank you for visiting.\")"
   ]
  },
  {
   "cell_type": "markdown",
   "id": "189ffeaa-8460-4c13-a265-687b482f007f",
   "metadata": {},
   "source": [
    "<b style=\"color:blue;font-size:25px\">\n",
    "    2. Transactions:\n",
    "</b>"
   ]
  },
  {
   "cell_type": "code",
   "execution_count": 429,
   "id": "1815d9f7-0e51-478d-adca-26b12aeb4219",
   "metadata": {},
   "outputs": [],
   "source": [
    "def calculate_balance(file_path,transaction_type):\n",
    "    balance = 0.0\n",
    "\n",
    "    with open(file_path, \"r\", encoding=\"utf-8\") as f:\n",
    "        content = f.read()\n",
    "\n",
    "    # if transaction_type == \"Deposit\":\n",
    "    #     transactions = re.findall(r'(Initial balance|Deposit)\\s*:\\s*₹\\s*([\\d,]+\\.\\d{2})', content)\n",
    "    # elif transaction_type == \"Withdrawal\":\n",
    "    #     transactions = re.findall(r'(Initial balance|Withdrawal)\\s*:\\s*₹\\s*([\\d,]+\\.\\d{2})', content)\n",
    "    # elif transaction_type == \"Transfer\":\n",
    "    #     transactions = re.findall(r'(Initial balance|Deposit|Withdrawal|Transfer)\\s*:\\s*₹\\s*([\\d,]+\\.\\d{2})', content)\n",
    "\n",
    "    transactions = re.findall(r'(Initial balance|Deposit|Withdrawal|Transfer)\\s*:\\s*₹\\s*([\\d,]+\\.\\d{2})', content)\n",
    "    \n",
    "    for t_type, amount_str in transactions:\n",
    "        amount = float(amount_str.replace(\",\", \"\"))\n",
    "\n",
    "        if t_type == \"Initial balance\":\n",
    "            balance = amount  # start with initial balance\n",
    "        elif t_type == \"Deposit\":\n",
    "            balance += amount\n",
    "        elif t_type in (\"Withdrawal\", \"Transfer\"):\n",
    "            balance -= amount\n",
    "\n",
    "    return balance"
   ]
  },
  {
   "cell_type": "code",
   "execution_count": 430,
   "id": "2c504953-099b-45bf-b513-f07ae8c899ed",
   "metadata": {},
   "outputs": [],
   "source": [
    "def transaction_action(transaction_type,account_number):\n",
    "    balance={}\n",
    "    if transaction_type == \"3\":\n",
    "        deposit_amount = int(input(\"Please enter amount to deposit.\"))\n",
    "        if deposit_amount <=0:\n",
    "            balance = {\n",
    "                \"status\":False,\"messgae\":\"Please enter positive number\"\n",
    "            }\n",
    "            return balance\n",
    "        else:\n",
    "            deposit_amount = locale.currency(deposit_amount, grouping=True)\n",
    "            #print(f\"{deposit_amount} to be added in {accounts[\"account_number\"]}.\")\n",
    "    \n",
    "            today = datetime.today()\n",
    "    \n",
    "            entry_date = today.strftime(\"%d-%m-%Y\")\n",
    "            \n",
    "            with open(f\"{account_number}\", \"a\", encoding=\"utf-8\") as f:\n",
    "              f.write(f\"\\nDeposit : {deposit_amount},Date: {entry_date}\")\n",
    "            \n",
    "            file_path = account_number\n",
    "            final_balance = calculate_balance(file_path,\"Deposit\")\n",
    "            final_balance = f\"Final Balance: ₹ {final_balance:,.2f}\"\n",
    "            balance = {\n",
    "                \"status\":True,\"messgae\":\"Deposit transaction completed.\",\"final_balance\":final_balance\n",
    "            }\n",
    "            return balance\n",
    "        \n",
    "    elif transaction_type == \"4\":\n",
    "\n",
    "        withdrawal_amount = int(input(\"Please enter amount to withdrew.\"))\n",
    "        file_path = account_number\n",
    "        final_balance = calculate_balance(file_path,\"Withdrawal\")\n",
    "        if withdrawal_amount <=0 or withdrawal_amount > final_balance or final_balance < 0:\n",
    "            if withdrawal_amount <=0:\n",
    "                balance = {\n",
    "                    \"status\":False,\"messgae\":\"Please enter positive number\"\n",
    "                }\n",
    "                return balance\n",
    "            elif withdrawal_amount > final_balance:\n",
    "                balance = {\n",
    "                    \"status\":False,\"messgae\":f\"Withdrew amount is greater than balance.Please enter amount below or equal to ₹ {final_balance:,.2f}\"\n",
    "                }\n",
    "                return balance\n",
    "            elif final_balance < 0:\n",
    "                balance = {\n",
    "                    \"status\":False,\"messgae\":\"Your balance is low to proceed the request.\"\n",
    "                }\n",
    "                return balance\n",
    "        else:\n",
    "            withdrawal_amount = locale.currency(withdrawal_amount, grouping=True)\n",
    "            #print(f\"{deposit_amount} to be added in {accounts[\"account_number\"]}.\")\n",
    "    \n",
    "            today = datetime.today()\n",
    "    \n",
    "            entry_date = today.strftime(\"%d-%m-%Y\")\n",
    "            \n",
    "            with open(f\"{account_number}\", \"a\", encoding=\"utf-8\") as f:\n",
    "              f.write(f\"\\nWithdrawal : {withdrawal_amount},Date: {entry_date}\")\n",
    "            \n",
    "            file_path = account_number\n",
    "            final_balance = calculate_balance(file_path,\"Withdrawal\")\n",
    "            final_balance = f\"Final Balance: ₹ {final_balance:,.2f}\"\n",
    "            balance = {\n",
    "                \"status\":True,\"messgae\":\"Withdrew transaction completed.\",\"final_balance\":final_balance\n",
    "            }\n",
    "            return balance\n",
    "            \n",
    "    elif transaction_type == \"5\":\n",
    "\n",
    "        transfer_amount = int(input(\"Please enter amount to withdrew.\"))\n",
    "        file_path = account_number\n",
    "        final_balance = calculate_balance(file_path,\"Withdrawal\")\n",
    "        if transfer_amount <=0 or transfer_amount > final_balance or final_balance < 0:\n",
    "            if transfer_amount <=0:\n",
    "                balance = {\n",
    "                    \"status\":False,\"messgae\":\"Please enter positive number\"\n",
    "                }\n",
    "                return balance\n",
    "            elif transfer_amount > final_balance:\n",
    "                balance = {\n",
    "                    \"status\":False,\"messgae\":f\"Transfer amount is greater than balance.Please enter amount below or equal to ₹ {final_balance:,.2f}\"\n",
    "                }\n",
    "                return balance\n",
    "            elif final_balance < 0:\n",
    "                balance = {\n",
    "                    \"status\":False,\"messgae\":\"Your balance is low to proceed the request.\"\n",
    "                }\n",
    "                return balance\n",
    "        else:\n",
    "            transfer_amount = locale.currency(transfer_amount, grouping=True)\n",
    "            #print(f\"{deposit_amount} to be added in {accounts[\"account_number\"]}.\")\n",
    "    \n",
    "            today = datetime.today()\n",
    "    \n",
    "            entry_date = today.strftime(\"%d-%m-%Y\")\n",
    "            \n",
    "            with open(f\"{account_number}\", \"a\", encoding=\"utf-8\") as f:\n",
    "              f.write(f\"\\nTransfer : {transfer_amount},Date: {entry_date}\")\n",
    "            \n",
    "            file_path = account_number\n",
    "            final_balance = calculate_balance(file_path,\"Withdrawal\")\n",
    "            final_balance = f\"Final Balance: ₹ {final_balance:,.2f}\"\n",
    "            balance = {\n",
    "                \"status\":True,\"messgae\":\"Transfer transaction completed.\",\"final_balance\":final_balance\n",
    "            }\n",
    "            return balance        "
   ]
  },
  {
   "cell_type": "code",
   "execution_count": 431,
   "id": "a82e6d06-cf9c-4acf-86d4-0e52847491c5",
   "metadata": {},
   "outputs": [],
   "source": [
    "# print(accounts[\"name\"])\n",
    "# print(accounts[\"account_type\"])\n",
    "# print(accounts[\"account_number\"])\n",
    "# print(accounts[\"initial_balance\"])\n",
    "def transaction_type(choice,account_number):\n",
    "        transaction_type = choice\n",
    "    \n",
    "        if transaction_type == \"3\" or transaction_type == \"4\" or transaction_type == \"5\":\n",
    "            print(\"A/c number : \",account_number)\n",
    "            transaction_status = transaction_action(transaction_type,account_number)\n",
    "            if transaction_status['status'] == True:\n",
    "                print(transaction_status['messgae'])\n",
    "                print(transaction_status['final_balance'])\n",
    "            else:\n",
    "                print(transaction_status['messgae'])\n",
    "        else:\n",
    "            print(\"Invalid choice! Please enter 3, 4, or 5.\")    "
   ]
  },
  {
   "cell_type": "code",
   "execution_count": 432,
   "id": "5c2cf426-4b2d-4116-8d55-ee96da53a974",
   "metadata": {},
   "outputs": [
    {
     "name": "stdout",
     "output_type": "stream",
     "text": [
      "\n",
      "===== BANK MENU =====\n",
      "1. Open Account\n",
      "2. View Account\n",
      "3. Deposit\n",
      "4. Withdraw\n",
      "5. Transfer\n",
      "6. View Transactions\n",
      "7. Exit\n"
     ]
    },
    {
     "name": "stdin",
     "output_type": "stream",
     "text": [
      "Enter choice:  1\n",
      "Enter your name: Farook mohammad\n",
      "Type (savings/current): savings\n",
      "Please enter MPIN: 1234\n",
      "Initial balance: 5000\n"
     ]
    },
    {
     "name": "stdout",
     "output_type": "stream",
     "text": [
      "\n",
      "Account created successfully.\n",
      "name : Farook mohammad\n",
      "account_type : savings\n",
      "account_number : 8718034163962776Fas\n",
      "initial_balance : ₹ 5,000.00\n",
      "mpin : 1234\n",
      "\n",
      "===== BANK MENU =====\n",
      "1. Open Account\n",
      "2. View Account\n",
      "3. Deposit\n",
      "4. Withdraw\n",
      "5. Transfer\n",
      "6. View Transactions\n",
      "7. Exit\n"
     ]
    },
    {
     "name": "stdin",
     "output_type": "stream",
     "text": [
      "Enter choice:  2\n",
      "Please enter your account number. 8718034163962776Fas\n",
      "Please enter your mpin. 1234\n"
     ]
    },
    {
     "name": "stdout",
     "output_type": "stream",
     "text": [
      "           name    account_type mpin\n",
      "Farook mohammad savings account 1234\n",
      "\n",
      "===== BANK MENU =====\n",
      "1. Open Account\n",
      "2. View Account\n",
      "3. Deposit\n",
      "4. Withdraw\n",
      "5. Transfer\n",
      "6. View Transactions\n",
      "7. Exit\n"
     ]
    },
    {
     "name": "stdin",
     "output_type": "stream",
     "text": [
      "Enter choice:  3\n",
      "Please enter your account number. 8718034163962776Fas\n",
      "Please enter your mpin. 1234\n"
     ]
    },
    {
     "name": "stdout",
     "output_type": "stream",
     "text": [
      "A/c number :  8718034163962776Fas.txt\n"
     ]
    },
    {
     "name": "stdin",
     "output_type": "stream",
     "text": [
      "Please enter amount to deposit. 4000\n"
     ]
    },
    {
     "name": "stdout",
     "output_type": "stream",
     "text": [
      "Deposit transaction completed.\n",
      "Final Balance: ₹ 9,000.00\n",
      "None\n",
      "\n",
      "===== BANK MENU =====\n",
      "1. Open Account\n",
      "2. View Account\n",
      "3. Deposit\n",
      "4. Withdraw\n",
      "5. Transfer\n",
      "6. View Transactions\n",
      "7. Exit\n"
     ]
    },
    {
     "name": "stdin",
     "output_type": "stream",
     "text": [
      "Enter choice:  4\n",
      "Please enter your account number. 8718034163962776Fas\n",
      "Please enter your mpin. 1234\n"
     ]
    },
    {
     "name": "stdout",
     "output_type": "stream",
     "text": [
      "A/c number :  8718034163962776Fas.txt\n"
     ]
    },
    {
     "name": "stdin",
     "output_type": "stream",
     "text": [
      "Please enter amount to withdrew. 2000\n"
     ]
    },
    {
     "name": "stdout",
     "output_type": "stream",
     "text": [
      "Withdrew transaction completed.\n",
      "Final Balance: ₹ 7,000.00\n",
      "None\n",
      "\n",
      "===== BANK MENU =====\n",
      "1. Open Account\n",
      "2. View Account\n",
      "3. Deposit\n",
      "4. Withdraw\n",
      "5. Transfer\n",
      "6. View Transactions\n",
      "7. Exit\n"
     ]
    },
    {
     "name": "stdin",
     "output_type": "stream",
     "text": [
      "Enter choice:  5\n",
      "Please enter your account number. 8718034163962776Fas\n",
      "Please enter your mpin. 1234\n"
     ]
    },
    {
     "name": "stdout",
     "output_type": "stream",
     "text": [
      "A/c number :  8718034163962776Fas.txt\n"
     ]
    },
    {
     "name": "stdin",
     "output_type": "stream",
     "text": [
      "Please enter amount to withdrew. 1200\n"
     ]
    },
    {
     "name": "stdout",
     "output_type": "stream",
     "text": [
      "Transfer transaction completed.\n",
      "Final Balance: ₹ 5,800.00\n",
      "None\n",
      "\n",
      "===== BANK MENU =====\n",
      "1. Open Account\n",
      "2. View Account\n",
      "3. Deposit\n",
      "4. Withdraw\n",
      "5. Transfer\n",
      "6. View Transactions\n",
      "7. Exit\n"
     ]
    },
    {
     "name": "stdin",
     "output_type": "stream",
     "text": [
      "Enter choice:  6\n",
      "Please enter your account number. 8718034163962776Fas\n",
      "Please enter your mpin. 1234\n"
     ]
    },
    {
     "name": "stdout",
     "output_type": "stream",
     "text": [
      "transaction_type  amount\n",
      " Initial balance  5000.0\n",
      "         Deposit  4000.0\n",
      "      Withdrawal  2000.0\n",
      "        Transfer  1200.0\n",
      "\n",
      "===== BANK MENU =====\n",
      "1. Open Account\n",
      "2. View Account\n",
      "3. Deposit\n",
      "4. Withdraw\n",
      "5. Transfer\n",
      "6. View Transactions\n",
      "7. Exit\n"
     ]
    },
    {
     "name": "stdin",
     "output_type": "stream",
     "text": [
      "Enter choice:  7\n"
     ]
    },
    {
     "name": "stdout",
     "output_type": "stream",
     "text": [
      "Thank you for visiting.\n"
     ]
    }
   ],
   "source": [
    "main_menu()"
   ]
  },
  {
   "cell_type": "code",
   "execution_count": null,
   "id": "eebb7f5a-04c1-47a0-a49c-04dfc11a194c",
   "metadata": {},
   "outputs": [],
   "source": []
  },
  {
   "cell_type": "code",
   "execution_count": null,
   "id": "7eebe87f-b971-4818-9aa3-d78fba33ed49",
   "metadata": {},
   "outputs": [],
   "source": []
  },
  {
   "cell_type": "code",
   "execution_count": null,
   "id": "ac8a7094-bfb4-4958-bbe0-61b9763360cc",
   "metadata": {},
   "outputs": [],
   "source": []
  }
 ],
 "metadata": {
  "kernelspec": {
   "display_name": "Python 3 (ipykernel)",
   "language": "python",
   "name": "python3"
  },
  "language_info": {
   "codemirror_mode": {
    "name": "ipython",
    "version": 3
   },
   "file_extension": ".py",
   "mimetype": "text/x-python",
   "name": "python",
   "nbconvert_exporter": "python",
   "pygments_lexer": "ipython3",
   "version": "3.13.5"
  }
 },
 "nbformat": 4,
 "nbformat_minor": 5
}
